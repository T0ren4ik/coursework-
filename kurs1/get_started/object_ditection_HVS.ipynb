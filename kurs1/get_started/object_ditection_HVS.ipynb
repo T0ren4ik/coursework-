{
 "cells": [
  {
   "attachments": {},
   "cell_type": "markdown",
   "metadata": {},
   "source": [
    "# Object Detection and Object Tracking Using HSV Color Space\n",
    "[Статья](https://robocraft.ru/computervision/402 \"Статья с данный темой \")\n",
    "\n",
    "HSV (англ. Hue, Saturation, Value — тон, насыщенность, значение) — цветовая модель, в которой координатами цвета являются:\n",
    "* Hue — цветовой тон, (например, красный, зелёный или сине-голубой). Варьируется в пределах 0—360°, однако иногда приводится к диапазону 0—100 или 0—1.\n",
    "* Saturation — насыщенность. Варьируется в пределах 0—100 или 0—1. Чем больше этот параметр, тем «чище» цвет, поэтому этот параметр иногда называют чистотой цвета. А чем ближе этот параметр к нулю, тем ближе цвет к нейтральному серому.\n",
    "* Value (значение цвета) или Brightness — яркость. Также задаётся в пределах 0—100 и 0—1.\n",
    "\n",
    "Эта модель очень удобна для поиска на изображении объектов по цвету (и яркости). \n",
    "\n",
    "![alt-text](https://robocraft.ru/files/opencv/hsv-space.png)"
   ]
  },
  {
   "cell_type": "code",
   "execution_count": 6,
   "metadata": {},
   "outputs": [],
   "source": [
    "import cv2 as cv\n",
    "import numpy as np\n",
    "\n",
    "while True:\n",
    "    # Фиг знает в чем пробдлема\n",
    "    frame = cv.imread(\"D:\\learn\\coursework\\kurs1\\get_started\\image_HVS.png\")\n",
    "    \n",
    "    hsv =cv.cvtColor(frame, cv.COLOR_BGR2HSV)\n",
    "\n",
    "    l_b = np.array([110, 50, 50]) # нижниц цветовой диапазон голубого цвета\n",
    "    u_b = np.array([130, 255, 255]) # верхниц цветовой диапазон голубого цвета\n",
    "    \n",
    "    # Функция inRange позволяет наложить на кадр цветовой фильтр в заданном диапазоне.\n",
    "    mask = cv.inRange(hsv, l_b, u_b)\n",
    "\n",
    "    res = cv.bitwise_and(frame, frame, mask=mask)\n",
    "    \n",
    "    cv.imshow(\"frame\", frame)\n",
    "    cv.imshow(\"mask\", mask)\n",
    "    cv.imshow(\"res\", res)\n",
    "\n",
    "    if cv.waitKey(1) & 0xFF == ord('q'):\n",
    "        break\n",
    "\n",
    "cv.destroyAllWindows()"
   ]
  },
  {
   "attachments": {},
   "cell_type": "markdown",
   "metadata": {},
   "source": [
    "Почитать об маске:[Mask](https://stackoverflow.com/questions/44333605/what-does-bitwise-and-operator-exactly-do-in-opencv)"
   ]
  },
  {
   "attachments": {},
   "cell_type": "markdown",
   "metadata": {},
   "source": [
    "Но вернемся к программе, определить нижнию и вернию границу цвета достаточно сложно, поэтому добавим окно и несколько ползунков."
   ]
  },
  {
   "cell_type": "code",
   "execution_count": 9,
   "metadata": {},
   "outputs": [],
   "source": [
    "import cv2 as cv\n",
    "import numpy as np\n",
    "\n",
    "def nathing(x):\n",
    "    pass\n",
    "\n",
    "cv.namedWindow(\"Tracking\")\n",
    "cv.createTrackbar(\"LH\", \"Tracking\", 0, 255, nathing)\n",
    "cv.createTrackbar(\"LS\", \"Tracking\", 0, 255, nathing)\n",
    "cv.createTrackbar(\"LV\", \"Tracking\", 0, 255, nathing)\n",
    "cv.createTrackbar(\"UH\", \"Tracking\", 255, 255, nathing)\n",
    "cv.createTrackbar(\"US\", \"Tracking\", 255, 255, nathing)\n",
    "cv.createTrackbar(\"UV\", \"Tracking\", 255, 255, nathing)\n",
    "\n",
    "\n",
    "\n",
    "while True:\n",
    "    # Фиг знает в чем пробдлема\n",
    "    frame = cv.imread(\"D:\\learn\\coursework\\kurs1\\get_started\\image_HVS.png\")\n",
    "    \n",
    "    hsv =cv.cvtColor(frame, cv.COLOR_BGR2HSV)\n",
    "\n",
    "    LH = cv.getTrackbarPos(\"LH\", \"Tracking\")\n",
    "    LS = cv.getTrackbarPos(\"LS\", \"Tracking\")\n",
    "    LV = cv.getTrackbarPos(\"LV\", \"Tracking\")\n",
    "\n",
    "    UH = cv.getTrackbarPos(\"UH\", \"Tracking\")\n",
    "    US = cv.getTrackbarPos(\"US\", \"Tracking\")\n",
    "    UV = cv.getTrackbarPos(\"UV\", \"Tracking\")\n",
    "\n",
    "    l_b = np.array([LH, LS, LV]) # нижниц цветовой диапазон голубого цвета\n",
    "    u_b = np.array([UH, US, UV]) # верхниц цветовой диапазон голубого цвета\n",
    "    \n",
    "   # Лучшие значения для синего цвета этой фотографии - 96. 113. 200 | 140, 255, 255 \n",
    "\n",
    "    # Функция inRange позволяет наложить на кадр цветовой фильтр в заданном диапазоне.\n",
    "    mask = cv.inRange(hsv, l_b, u_b)\n",
    "\n",
    "    res = cv.bitwise_and(frame, frame, mask=mask)\n",
    "    \n",
    "    cv.imshow(\"frame\", frame)\n",
    "    cv.imshow(\"mask\", mask)\n",
    "    cv.imshow(\"res\", res)\n",
    "\n",
    "    if cv.waitKey(1) & 0xFF == ord('q'):\n",
    "        break\n",
    "\n",
    "cv.destroyAllWindows()"
   ]
  }
 ],
 "metadata": {
  "kernelspec": {
   "display_name": "Python 3",
   "language": "python",
   "name": "python3"
  },
  "language_info": {
   "codemirror_mode": {
    "name": "ipython",
    "version": 3
   },
   "file_extension": ".py",
   "mimetype": "text/x-python",
   "name": "python",
   "nbconvert_exporter": "python",
   "pygments_lexer": "ipython3",
   "version": "3.11.2"
  },
  "orig_nbformat": 4
 },
 "nbformat": 4,
 "nbformat_minor": 2
}
